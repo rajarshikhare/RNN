{
 "cells": [
  {
   "cell_type": "code",
   "execution_count": 1,
   "metadata": {
    "collapsed": true
   },
   "outputs": [],
   "source": [
    "import numpy as np\n",
    "import matplotlib.pyplot as plt\n",
    "import pandas as pd\n",
    "%matplotlib inline"
   ]
  },
  {
   "cell_type": "code",
   "execution_count": 2,
   "metadata": {
    "collapsed": true
   },
   "outputs": [],
   "source": [
    "training_set = pd.read_csv('Google_Stock_Price_Train.csv')"
   ]
  },
  {
   "cell_type": "code",
   "execution_count": 3,
   "metadata": {},
   "outputs": [
    {
     "data": {
      "text/html": [
       "<div>\n",
       "<style>\n",
       "    .dataframe thead tr:only-child th {\n",
       "        text-align: right;\n",
       "    }\n",
       "\n",
       "    .dataframe thead th {\n",
       "        text-align: left;\n",
       "    }\n",
       "\n",
       "    .dataframe tbody tr th {\n",
       "        vertical-align: top;\n",
       "    }\n",
       "</style>\n",
       "<table border=\"1\" class=\"dataframe\">\n",
       "  <thead>\n",
       "    <tr style=\"text-align: right;\">\n",
       "      <th></th>\n",
       "      <th>Date</th>\n",
       "      <th>Open</th>\n",
       "      <th>High</th>\n",
       "      <th>Low</th>\n",
       "      <th>Close</th>\n",
       "      <th>Volume</th>\n",
       "    </tr>\n",
       "  </thead>\n",
       "  <tbody>\n",
       "    <tr>\n",
       "      <th>0</th>\n",
       "      <td>1/3/2012</td>\n",
       "      <td>325.25</td>\n",
       "      <td>332.83</td>\n",
       "      <td>324.97</td>\n",
       "      <td>663.59</td>\n",
       "      <td>7,380,500</td>\n",
       "    </tr>\n",
       "    <tr>\n",
       "      <th>1</th>\n",
       "      <td>1/4/2012</td>\n",
       "      <td>331.27</td>\n",
       "      <td>333.87</td>\n",
       "      <td>329.08</td>\n",
       "      <td>666.45</td>\n",
       "      <td>5,749,400</td>\n",
       "    </tr>\n",
       "    <tr>\n",
       "      <th>2</th>\n",
       "      <td>1/5/2012</td>\n",
       "      <td>329.83</td>\n",
       "      <td>330.75</td>\n",
       "      <td>326.89</td>\n",
       "      <td>657.21</td>\n",
       "      <td>6,590,300</td>\n",
       "    </tr>\n",
       "    <tr>\n",
       "      <th>3</th>\n",
       "      <td>1/6/2012</td>\n",
       "      <td>328.34</td>\n",
       "      <td>328.77</td>\n",
       "      <td>323.68</td>\n",
       "      <td>648.24</td>\n",
       "      <td>5,405,900</td>\n",
       "    </tr>\n",
       "    <tr>\n",
       "      <th>4</th>\n",
       "      <td>1/9/2012</td>\n",
       "      <td>322.04</td>\n",
       "      <td>322.29</td>\n",
       "      <td>309.46</td>\n",
       "      <td>620.76</td>\n",
       "      <td>11,688,800</td>\n",
       "    </tr>\n",
       "  </tbody>\n",
       "</table>\n",
       "</div>"
      ],
      "text/plain": [
       "       Date    Open    High     Low   Close      Volume\n",
       "0  1/3/2012  325.25  332.83  324.97  663.59   7,380,500\n",
       "1  1/4/2012  331.27  333.87  329.08  666.45   5,749,400\n",
       "2  1/5/2012  329.83  330.75  326.89  657.21   6,590,300\n",
       "3  1/6/2012  328.34  328.77  323.68  648.24   5,405,900\n",
       "4  1/9/2012  322.04  322.29  309.46  620.76  11,688,800"
      ]
     },
     "execution_count": 3,
     "metadata": {},
     "output_type": "execute_result"
    }
   ],
   "source": [
    "training_set.head()"
   ]
  },
  {
   "cell_type": "code",
   "execution_count": 4,
   "metadata": {
    "collapsed": true
   },
   "outputs": [],
   "source": [
    "training_set = training_set.iloc[:,1:2].values"
   ]
  },
  {
   "cell_type": "markdown",
   "metadata": {},
   "source": [
    "Feature Scaling, here we are normalizing our data, since our LSTM model contain sigmoid function which takes values from  to 1"
   ]
  },
  {
   "cell_type": "code",
   "execution_count": 5,
   "metadata": {
    "collapsed": true
   },
   "outputs": [],
   "source": [
    "from sklearn.preprocessing import MinMaxScaler\n",
    "sc = MinMaxScaler()\n",
    "training_set = sc.fit_transform(training_set)"
   ]
  },
  {
   "cell_type": "code",
   "execution_count": 6,
   "metadata": {},
   "outputs": [
    {
     "data": {
      "text/plain": [
       "(1258, 1)"
      ]
     },
     "execution_count": 6,
     "metadata": {},
     "output_type": "execute_result"
    }
   ],
   "source": [
    "training_set.shape"
   ]
  },
  {
   "cell_type": "markdown",
   "metadata": {},
   "source": [
    "Here our input will be stock price at time t and output will stock price at time t+1"
   ]
  },
  {
   "cell_type": "code",
   "execution_count": 7,
   "metadata": {
    "collapsed": true
   },
   "outputs": [],
   "source": [
    "X_train = training_set[0:1257]\n",
    "y_train = training_set[1:1258]"
   ]
  },
  {
   "cell_type": "code",
   "execution_count": 8,
   "metadata": {},
   "outputs": [
    {
     "data": {
      "text/plain": [
       "(1257, 1)"
      ]
     },
     "execution_count": 8,
     "metadata": {},
     "output_type": "execute_result"
    }
   ],
   "source": [
    "y_train.shape"
   ]
  },
  {
   "cell_type": "markdown",
   "metadata": {},
   "source": [
    "Reshape the training set as given on keras documentation"
   ]
  },
  {
   "cell_type": "code",
   "execution_count": 9,
   "metadata": {
    "collapsed": true
   },
   "outputs": [],
   "source": [
    "X_train = np.reshape(X_train, (1257, 1, 1))"
   ]
  },
  {
   "cell_type": "code",
   "execution_count": 10,
   "metadata": {},
   "outputs": [
    {
     "data": {
      "text/plain": [
       "(1257, 1, 1)"
      ]
     },
     "execution_count": 10,
     "metadata": {},
     "output_type": "execute_result"
    }
   ],
   "source": [
    "X_train.shape"
   ]
  },
  {
   "cell_type": "code",
   "execution_count": 11,
   "metadata": {},
   "outputs": [
    {
     "name": "stderr",
     "output_type": "stream",
     "text": [
      "Using TensorFlow backend.\n"
     ]
    }
   ],
   "source": [
    "from keras.models import Sequential\n",
    "from keras.layers import Dense\n",
    "from keras.layers import LSTM"
   ]
  },
  {
   "cell_type": "markdown",
   "metadata": {},
   "source": [
    "Initialization the RNN"
   ]
  },
  {
   "cell_type": "code",
   "execution_count": 12,
   "metadata": {
    "collapsed": true
   },
   "outputs": [],
   "source": [
    "regressor = Sequential()"
   ]
  },
  {
   "cell_type": "code",
   "execution_count": 13,
   "metadata": {
    "collapsed": true
   },
   "outputs": [],
   "source": [
    "regressor.add(LSTM(units=4, activation='sigmoid', input_shape=(None, 1)))"
   ]
  },
  {
   "cell_type": "code",
   "execution_count": 14,
   "metadata": {
    "collapsed": true
   },
   "outputs": [],
   "source": [
    "regressor.add(Dense(units=1))"
   ]
  },
  {
   "cell_type": "code",
   "execution_count": 15,
   "metadata": {
    "collapsed": true
   },
   "outputs": [],
   "source": [
    "regressor.compile(optimizer='rmsprop', loss='mean_squared_error')"
   ]
  },
  {
   "cell_type": "code",
   "execution_count": 16,
   "metadata": {},
   "outputs": [
    {
     "name": "stdout",
     "output_type": "stream",
     "text": [
      "Epoch 1/200\n",
      "1257/1257 [==============================] - 1s 748us/step - loss: 0.0915\n",
      "Epoch 2/200\n",
      "1257/1257 [==============================] - 0s 78us/step - loss: 0.0674\n",
      "Epoch 3/200\n",
      "1257/1257 [==============================] - 0s 83us/step - loss: 0.0604\n",
      "Epoch 4/200\n",
      "1257/1257 [==============================] - 0s 80us/step - loss: 0.0580\n",
      "Epoch 5/200\n",
      "1257/1257 [==============================] - 0s 86us/step - loss: 0.0556\n",
      "Epoch 6/200\n",
      "1257/1257 [==============================] - 0s 99us/step - loss: 0.0533\n",
      "Epoch 7/200\n",
      "1257/1257 [==============================] - 0s 90us/step - loss: 0.0509\n",
      "Epoch 8/200\n",
      "1257/1257 [==============================] - 0s 93us/step - loss: 0.0484\n",
      "Epoch 9/200\n",
      "1257/1257 [==============================] - 0s 101us/step - loss: 0.0460\n",
      "Epoch 10/200\n",
      "1257/1257 [==============================] - 0s 91us/step - loss: 0.0436\n",
      "Epoch 11/200\n",
      "1257/1257 [==============================] - 0s 91us/step - loss: 0.0411\n",
      "Epoch 12/200\n",
      "1257/1257 [==============================] - 0s 113us/step - loss: 0.0385\n",
      "Epoch 13/200\n",
      "1257/1257 [==============================] - 0s 110us/step - loss: 0.0361\n",
      "Epoch 14/200\n",
      "1257/1257 [==============================] - 0s 126us/step - loss: 0.0336\n",
      "Epoch 15/200\n",
      "1257/1257 [==============================] - 0s 111us/step - loss: 0.0311\n",
      "Epoch 16/200\n",
      "1257/1257 [==============================] - 0s 112us/step - loss: 0.0284\n",
      "Epoch 17/200\n",
      "1257/1257 [==============================] - 0s 126us/step - loss: 0.0258\n",
      "Epoch 18/200\n",
      "1257/1257 [==============================] - 0s 105us/step - loss: 0.0235\n",
      "Epoch 19/200\n",
      "1257/1257 [==============================] - 0s 99us/step - loss: 0.0210\n",
      "Epoch 20/200\n",
      "1257/1257 [==============================] - 0s 105us/step - loss: 0.0186\n",
      "Epoch 21/200\n",
      "1257/1257 [==============================] - 0s 134us/step - loss: 0.0164\n",
      "Epoch 22/200\n",
      "1257/1257 [==============================] - 0s 121us/step - loss: 0.0142\n",
      "Epoch 23/200\n",
      "1257/1257 [==============================] - 0s 92us/step - loss: 0.0122\n",
      "Epoch 24/200\n",
      "1257/1257 [==============================] - 0s 80us/step - loss: 0.0102\n",
      "Epoch 25/200\n",
      "1257/1257 [==============================] - 0s 83us/step - loss: 0.0084\n",
      "Epoch 26/200\n",
      "1257/1257 [==============================] - 0s 82us/step - loss: 0.0067\n",
      "Epoch 27/200\n",
      "1257/1257 [==============================] - 0s 111us/step - loss: 0.0051\n",
      "Epoch 28/200\n",
      "1257/1257 [==============================] - 0s 121us/step - loss: 0.0037\n",
      "Epoch 29/200\n",
      "1257/1257 [==============================] - 0s 105us/step - loss: 0.0025\n",
      "Epoch 30/200\n",
      "1257/1257 [==============================] - 0s 105us/step - loss: 0.0016\n",
      "Epoch 31/200\n",
      "1257/1257 [==============================] - 0s 86us/step - loss: 9.4868e-04\n",
      "Epoch 32/200\n",
      "1257/1257 [==============================] - 0s 93us/step - loss: 5.3368e-04\n",
      "Epoch 33/200\n",
      "1257/1257 [==============================] - 0s 118us/step - loss: 3.3342e-04\n",
      "Epoch 34/200\n",
      "1257/1257 [==============================] - 0s 101us/step - loss: 2.7163e-04\n",
      "Epoch 35/200\n",
      "1257/1257 [==============================] - ETA: 0s - loss: 2.4564e-0 - 0s 99us/step - loss: 2.5907e-04\n",
      "Epoch 36/200\n",
      "1257/1257 [==============================] - 0s 108us/step - loss: 2.5308e-04\n",
      "Epoch 37/200\n",
      "1257/1257 [==============================] - 0s 99us/step - loss: 2.5756e-04\n",
      "Epoch 38/200\n",
      "1257/1257 [==============================] - 0s 113us/step - loss: 2.5584e-04\n",
      "Epoch 39/200\n",
      "1257/1257 [==============================] - 0s 86us/step - loss: 2.5411e-04\n",
      "Epoch 40/200\n",
      "1257/1257 [==============================] - 0s 87us/step - loss: 2.5721e-04\n",
      "Epoch 41/200\n",
      "1257/1257 [==============================] - 0s 92us/step - loss: 2.5567e-04\n",
      "Epoch 42/200\n",
      "1257/1257 [==============================] - 0s 92us/step - loss: 2.5496e-04\n",
      "Epoch 43/200\n",
      "1257/1257 [==============================] - 0s 115us/step - loss: 2.5778e-04\n",
      "Epoch 44/200\n",
      "1257/1257 [==============================] - 0s 103us/step - loss: 2.5443e-04\n",
      "Epoch 45/200\n",
      "1257/1257 [==============================] - 0s 115us/step - loss: 2.5299e-04\n",
      "Epoch 46/200\n",
      "1257/1257 [==============================] - 0s 103us/step - loss: 2.5557e-04\n",
      "Epoch 47/200\n",
      "1257/1257 [==============================] - 0s 99us/step - loss: 2.5684e-04\n",
      "Epoch 48/200\n",
      "1257/1257 [==============================] - 0s 89us/step - loss: 2.5499e-04\n",
      "Epoch 49/200\n",
      "1257/1257 [==============================] - 0s 105us/step - loss: 2.5351e-04\n",
      "Epoch 50/200\n",
      "1257/1257 [==============================] - 0s 102us/step - loss: 2.5392e-04\n",
      "Epoch 51/200\n",
      "1257/1257 [==============================] - 0s 89us/step - loss: 2.5438e-04\n",
      "Epoch 52/200\n",
      "1257/1257 [==============================] - 0s 105us/step - loss: 2.5334e-04\n",
      "Epoch 53/200\n",
      "1257/1257 [==============================] - 0s 89us/step - loss: 2.5294e-04\n",
      "Epoch 54/200\n",
      "1257/1257 [==============================] - 0s 106us/step - loss: 2.5301e-04\n",
      "Epoch 55/200\n",
      "1257/1257 [==============================] - 0s 102us/step - loss: 2.5265e-04\n",
      "Epoch 56/200\n",
      "1257/1257 [==============================] - 0s 92us/step - loss: 2.5470e-04\n",
      "Epoch 57/200\n",
      "1257/1257 [==============================] - 0s 92us/step - loss: 2.5402e-04\n",
      "Epoch 58/200\n",
      "1257/1257 [==============================] - 0s 84us/step - loss: 2.5567e-04\n",
      "Epoch 59/200\n",
      "1257/1257 [==============================] - 0s 90us/step - loss: 2.5417e-04\n",
      "Epoch 60/200\n",
      "1257/1257 [==============================] - 0s 108us/step - loss: 2.5153e-04\n",
      "Epoch 61/200\n",
      "1257/1257 [==============================] - 0s 102us/step - loss: 2.5522e-04\n",
      "Epoch 62/200\n",
      "1257/1257 [==============================] - 0s 86us/step - loss: 2.5166e-04\n",
      "Epoch 63/200\n",
      "1257/1257 [==============================] - 0s 91us/step - loss: 2.5516e-04\n",
      "Epoch 64/200\n",
      "1257/1257 [==============================] - 0s 82us/step - loss: 2.5413e-04\n",
      "Epoch 65/200\n",
      "1257/1257 [==============================] - 0s 76us/step - loss: 2.4906e-04\n",
      "Epoch 66/200\n",
      "1257/1257 [==============================] - 0s 80us/step - loss: 2.5251e-04\n",
      "Epoch 67/200\n",
      "1257/1257 [==============================] - 0s 76us/step - loss: 2.5176e-04\n",
      "Epoch 68/200\n",
      "1257/1257 [==============================] - 0s 99us/step - loss: 2.5519e-04\n",
      "Epoch 69/200\n",
      "1257/1257 [==============================] - 0s 102us/step - loss: 2.5102e-04\n",
      "Epoch 70/200\n",
      "1257/1257 [==============================] - 0s 89us/step - loss: 2.5407e-04\n",
      "Epoch 71/200\n",
      "1257/1257 [==============================] - 0s 99us/step - loss: 2.5407e-04\n",
      "Epoch 72/200\n",
      "1257/1257 [==============================] - 0s 84us/step - loss: 2.5334e-04\n",
      "Epoch 73/200\n",
      "1257/1257 [==============================] - 0s 78us/step - loss: 2.5153e-04\n",
      "Epoch 74/200\n",
      "1257/1257 [==============================] - 0s 83us/step - loss: 2.5762e-04\n",
      "Epoch 75/200\n",
      "1257/1257 [==============================] - 0s 105us/step - loss: 2.5431e-04\n",
      "Epoch 76/200\n",
      "1257/1257 [==============================] - 0s 102us/step - loss: 2.5090e-04\n",
      "Epoch 77/200\n",
      "1257/1257 [==============================] - 0s 86us/step - loss: 2.5364e-04\n",
      "Epoch 78/200\n",
      "1257/1257 [==============================] - 0s 91us/step - loss: 2.5354e-04\n",
      "Epoch 79/200\n",
      "1257/1257 [==============================] - 0s 86us/step - loss: 2.5369e-04\n",
      "Epoch 80/200\n",
      "1257/1257 [==============================] - 0s 92us/step - loss: 2.5230e-04\n",
      "Epoch 81/200\n",
      "1257/1257 [==============================] - 0s 102us/step - loss: 2.5032e-04\n",
      "Epoch 82/200\n",
      "1257/1257 [==============================] - 0s 109us/step - loss: 2.5363e-04\n",
      "Epoch 83/200\n",
      "1257/1257 [==============================] - 0s 91us/step - loss: 2.5150e-04\n",
      "Epoch 84/200\n",
      "1257/1257 [==============================] - 0s 95us/step - loss: 2.5110e-04\n",
      "Epoch 85/200\n",
      "1257/1257 [==============================] - 0s 80us/step - loss: 2.5292e-04\n",
      "Epoch 86/200\n",
      "1257/1257 [==============================] - 0s 89us/step - loss: 2.5402e-04\n",
      "Epoch 87/200\n",
      "1257/1257 [==============================] - 0s 82us/step - loss: 2.5528e-04\n",
      "Epoch 88/200\n",
      "1257/1257 [==============================] - 0s 86us/step - loss: 2.5300e-04\n",
      "Epoch 89/200\n",
      "1257/1257 [==============================] - 0s 92us/step - loss: 2.4940e-04\n",
      "Epoch 90/200\n",
      "1257/1257 [==============================] - 0s 80us/step - loss: 2.5464e-04\n",
      "Epoch 91/200\n",
      "1257/1257 [==============================] - 0s 83us/step - loss: 2.5180e-04\n",
      "Epoch 92/200\n"
     ]
    },
    {
     "name": "stdout",
     "output_type": "stream",
     "text": [
      "1257/1257 [==============================] - 0s 83us/step - loss: 2.5034e-04\n",
      "Epoch 93/200\n",
      "1257/1257 [==============================] - 0s 82us/step - loss: 2.5230e-04\n",
      "Epoch 94/200\n",
      "1257/1257 [==============================] - 0s 78us/step - loss: 2.5396e-04\n",
      "Epoch 95/200\n",
      "1257/1257 [==============================] - 0s 76us/step - loss: 2.5508e-04\n",
      "Epoch 96/200\n",
      "1257/1257 [==============================] - 0s 79us/step - loss: 2.5490e-04\n",
      "Epoch 97/200\n",
      "1257/1257 [==============================] - 0s 76us/step - loss: 2.5202e-04\n",
      "Epoch 98/200\n",
      "1257/1257 [==============================] - 0s 77us/step - loss: 2.5277e-04\n",
      "Epoch 99/200\n",
      "1257/1257 [==============================] - 0s 78us/step - loss: 2.4809e-04\n",
      "Epoch 100/200\n",
      "1257/1257 [==============================] - 0s 86us/step - loss: 2.5093e-04\n",
      "Epoch 101/200\n",
      "1257/1257 [==============================] - 0s 76us/step - loss: 2.5160e-04\n",
      "Epoch 102/200\n",
      "1257/1257 [==============================] - 0s 73us/step - loss: 2.5088e-04\n",
      "Epoch 103/200\n",
      "1257/1257 [==============================] - 0s 78us/step - loss: 2.5019e-04\n",
      "Epoch 104/200\n",
      "1257/1257 [==============================] - ETA: 0s - loss: 2.1489e-0 - 0s 78us/step - loss: 2.5143e-04\n",
      "Epoch 105/200\n",
      "1257/1257 [==============================] - 0s 79us/step - loss: 2.5089e-04\n",
      "Epoch 106/200\n",
      "1257/1257 [==============================] - 0s 78us/step - loss: 2.5306e-04\n",
      "Epoch 107/200\n",
      "1257/1257 [==============================] - 0s 83us/step - loss: 2.5373e-04\n",
      "Epoch 108/200\n",
      "1257/1257 [==============================] - 0s 79us/step - loss: 2.5277e-04\n",
      "Epoch 109/200\n",
      "1257/1257 [==============================] - 0s 77us/step - loss: 2.5332e-04\n",
      "Epoch 110/200\n",
      "1257/1257 [==============================] - 0s 80us/step - loss: 2.5099e-04\n",
      "Epoch 111/200\n",
      "1257/1257 [==============================] - 0s 78us/step - loss: 2.5373e-04\n",
      "Epoch 112/200\n",
      "1257/1257 [==============================] - 0s 79us/step - loss: 2.4839e-04\n",
      "Epoch 113/200\n",
      "1257/1257 [==============================] - 0s 80us/step - loss: 2.5170e-04\n",
      "Epoch 114/200\n",
      "1257/1257 [==============================] - 0s 82us/step - loss: 2.5163e-04\n",
      "Epoch 115/200\n",
      "1257/1257 [==============================] - 0s 86us/step - loss: 2.5079e-04\n",
      "Epoch 116/200\n",
      "1257/1257 [==============================] - 0s 96us/step - loss: 2.5109e-04\n",
      "Epoch 117/200\n",
      "1257/1257 [==============================] - 0s 86us/step - loss: 2.5285e-04\n",
      "Epoch 118/200\n",
      "1257/1257 [==============================] - 0s 89us/step - loss: 2.5155e-04\n",
      "Epoch 119/200\n",
      "1257/1257 [==============================] - 0s 83us/step - loss: 2.5247e-04\n",
      "Epoch 120/200\n",
      "1257/1257 [==============================] - 0s 76us/step - loss: 2.5126e-04\n",
      "Epoch 121/200\n",
      "1257/1257 [==============================] - 0s 76us/step - loss: 2.5080e-04\n",
      "Epoch 122/200\n",
      "1257/1257 [==============================] - 0s 80us/step - loss: 2.5347e-04\n",
      "Epoch 123/200\n",
      "1257/1257 [==============================] - 0s 82us/step - loss: 2.4920e-04\n",
      "Epoch 124/200\n",
      "1257/1257 [==============================] - 0s 83us/step - loss: 2.5333e-04\n",
      "Epoch 125/200\n",
      "1257/1257 [==============================] - 0s 80us/step - loss: 2.5015e-04\n",
      "Epoch 126/200\n",
      "1257/1257 [==============================] - 0s 85us/step - loss: 2.5157e-04\n",
      "Epoch 127/200\n",
      "1257/1257 [==============================] - 0s 118us/step - loss: 2.5111e-04\n",
      "Epoch 128/200\n",
      "1257/1257 [==============================] - 0s 118us/step - loss: 2.5089e-04\n",
      "Epoch 129/200\n",
      "1257/1257 [==============================] - 0s 119us/step - loss: 2.5023e-04\n",
      "Epoch 130/200\n",
      "1257/1257 [==============================] - 0s 115us/step - loss: 2.5147e-04\n",
      "Epoch 131/200\n",
      "1257/1257 [==============================] - 0s 136us/step - loss: 2.5037e-04\n",
      "Epoch 132/200\n",
      "1257/1257 [==============================] - 0s 146us/step - loss: 2.5013e-04\n",
      "Epoch 133/200\n",
      "1257/1257 [==============================] - 0s 115us/step - loss: 2.5338e-04\n",
      "Epoch 134/200\n",
      "1257/1257 [==============================] - 0s 108us/step - loss: 2.4885e-04\n",
      "Epoch 135/200\n",
      "1257/1257 [==============================] - 0s 117us/step - loss: 2.5011e-04\n",
      "Epoch 136/200\n",
      "1257/1257 [==============================] - 0s 141us/step - loss: 2.5243e-04\n",
      "Epoch 137/200\n",
      "1257/1257 [==============================] - 0s 111us/step - loss: 2.5046e-04\n",
      "Epoch 138/200\n",
      "1257/1257 [==============================] - 0s 99us/step - loss: 2.5049e-04\n",
      "Epoch 139/200\n",
      "1257/1257 [==============================] - 0s 108us/step - loss: 2.5292e-04\n",
      "Epoch 140/200\n",
      "1257/1257 [==============================] - 0s 127us/step - loss: 2.5274e-04\n",
      "Epoch 141/200\n",
      "1257/1257 [==============================] - 0s 108us/step - loss: 2.5010e-04\n",
      "Epoch 142/200\n",
      "1257/1257 [==============================] - 0s 114us/step - loss: 2.5261e-04\n",
      "Epoch 143/200\n",
      "1257/1257 [==============================] - 0s 126us/step - loss: 2.4950e-04\n",
      "Epoch 144/200\n",
      "1257/1257 [==============================] - 0s 105us/step - loss: 2.5141e-04\n",
      "Epoch 145/200\n",
      "1257/1257 [==============================] - 0s 118us/step - loss: 2.5114e-04\n",
      "Epoch 146/200\n",
      "1257/1257 [==============================] - 0s 124us/step - loss: 2.5080e-04\n",
      "Epoch 147/200\n",
      "1257/1257 [==============================] - 0s 121us/step - loss: 2.4908e-04\n",
      "Epoch 148/200\n",
      "1257/1257 [==============================] - 0s 102us/step - loss: 2.5173e-04\n",
      "Epoch 149/200\n",
      "1257/1257 [==============================] - 0s 114us/step - loss: 2.5357e-04\n",
      "Epoch 150/200\n",
      "1257/1257 [==============================] - 0s 99us/step - loss: 2.5296e-04\n",
      "Epoch 151/200\n",
      "1257/1257 [==============================] - 0s 118us/step - loss: 2.5029e-04\n",
      "Epoch 152/200\n",
      "1257/1257 [==============================] - 0s 111us/step - loss: 2.5487e-04\n",
      "Epoch 153/200\n",
      "1257/1257 [==============================] - 0s 115us/step - loss: 2.5110e-04\n",
      "Epoch 154/200\n",
      "1257/1257 [==============================] - 0s 105us/step - loss: 2.5268e-04\n",
      "Epoch 155/200\n",
      "1257/1257 [==============================] - 0s 118us/step - loss: 2.5165e-04\n",
      "Epoch 156/200\n",
      "1257/1257 [==============================] - 0s 122us/step - loss: 2.5194e-04\n",
      "Epoch 157/200\n",
      "1257/1257 [==============================] - 0s 117us/step - loss: 2.5390e-04\n",
      "Epoch 158/200\n",
      "1257/1257 [==============================] - 0s 102us/step - loss: 2.4877e-04\n",
      "Epoch 159/200\n",
      "1257/1257 [==============================] - 0s 108us/step - loss: 2.5332e-04\n",
      "Epoch 160/200\n",
      "1257/1257 [==============================] - 0s 96us/step - loss: 2.4898e-04\n",
      "Epoch 161/200\n",
      "1257/1257 [==============================] - 0s 115us/step - loss: 2.5295e-04\n",
      "Epoch 162/200\n",
      "1257/1257 [==============================] - 0s 102us/step - loss: 2.4820e-04\n",
      "Epoch 163/200\n",
      "1257/1257 [==============================] - 0s 111us/step - loss: 2.5169e-04\n",
      "Epoch 164/200\n",
      "1257/1257 [==============================] - 0s 121us/step - loss: 2.5259e-04\n",
      "Epoch 165/200\n",
      "1257/1257 [==============================] - 0s 95us/step - loss: 2.5491e-04\n",
      "Epoch 166/200\n",
      "1257/1257 [==============================] - 0s 111us/step - loss: 2.5081e-04\n",
      "Epoch 167/200\n",
      "1257/1257 [==============================] - 0s 101us/step - loss: 2.5174e-04\n",
      "Epoch 168/200\n",
      "1257/1257 [==============================] - 0s 94us/step - loss: 2.5134e-04\n",
      "Epoch 169/200\n",
      "1257/1257 [==============================] - 0s 115us/step - loss: 2.5102e-04\n",
      "Epoch 170/200\n",
      "1257/1257 [==============================] - 0s 114us/step - loss: 2.4981e-04\n",
      "Epoch 171/200\n",
      "1257/1257 [==============================] - 0s 108us/step - loss: 2.5145e-04\n",
      "Epoch 172/200\n",
      "1257/1257 [==============================] - 0s 102us/step - loss: 2.5204e-04\n",
      "Epoch 173/200\n",
      "1257/1257 [==============================] - 0s 97us/step - loss: 2.4971e-04\n",
      "Epoch 174/200\n",
      "1257/1257 [==============================] - 0s 108us/step - loss: 2.4730e-04\n",
      "Epoch 175/200\n",
      "1257/1257 [==============================] - 0s 95us/step - loss: 2.5383e-04\n",
      "Epoch 176/200\n",
      "1257/1257 [==============================] - 0s 95us/step - loss: 2.4921e-04\n",
      "Epoch 177/200\n",
      "1257/1257 [==============================] - 0s 94us/step - loss: 2.5215e-04\n",
      "Epoch 178/200\n",
      "1257/1257 [==============================] - 0s 89us/step - loss: 2.5218e-04\n",
      "Epoch 179/200\n",
      "1257/1257 [==============================] - 0s 92us/step - loss: 2.4937e-04\n",
      "Epoch 180/200\n",
      "1257/1257 [==============================] - 0s 92us/step - loss: 2.4866e-04\n",
      "Epoch 181/200\n"
     ]
    },
    {
     "name": "stdout",
     "output_type": "stream",
     "text": [
      "1257/1257 [==============================] - 0s 89us/step - loss: 2.5043e-04\n",
      "Epoch 182/200\n",
      "1257/1257 [==============================] - 0s 140us/step - loss: 2.5281e-04\n",
      "Epoch 183/200\n",
      "1257/1257 [==============================] - 0s 131us/step - loss: 2.5009e-04\n",
      "Epoch 184/200\n",
      "1257/1257 [==============================] - 0s 150us/step - loss: 2.5086e-04\n",
      "Epoch 185/200\n",
      "1257/1257 [==============================] - 0s 146us/step - loss: 2.4904e-04\n",
      "Epoch 186/200\n",
      "1257/1257 [==============================] - 0s 120us/step - loss: 2.5300e-04\n",
      "Epoch 187/200\n",
      "1257/1257 [==============================] - 0s 146us/step - loss: 2.5028e-04\n",
      "Epoch 188/200\n",
      "1257/1257 [==============================] - 0s 137us/step - loss: 2.5100e-04\n",
      "Epoch 189/200\n",
      "1257/1257 [==============================] - 0s 142us/step - loss: 2.4800e-04\n",
      "Epoch 190/200\n",
      "1257/1257 [==============================] - 0s 122us/step - loss: 2.5182e-04\n",
      "Epoch 191/200\n",
      "1257/1257 [==============================] - 0s 104us/step - loss: 2.5380e-04\n",
      "Epoch 192/200\n",
      "1257/1257 [==============================] - 0s 88us/step - loss: 2.5018e-04\n",
      "Epoch 193/200\n",
      "1257/1257 [==============================] - 0s 79us/step - loss: 2.5189e-04\n",
      "Epoch 194/200\n",
      "1257/1257 [==============================] - 0s 80us/step - loss: 2.5006e-04\n",
      "Epoch 195/200\n",
      "1257/1257 [==============================] - 0s 79us/step - loss: 2.5066e-04\n",
      "Epoch 196/200\n",
      "1257/1257 [==============================] - 0s 80us/step - loss: 2.4998e-04\n",
      "Epoch 197/200\n",
      "1257/1257 [==============================] - 0s 80us/step - loss: 2.5237e-04\n",
      "Epoch 198/200\n",
      "1257/1257 [==============================] - 0s 89us/step - loss: 2.5151e-04\n",
      "Epoch 199/200\n",
      "1257/1257 [==============================] - 0s 83us/step - loss: 2.5342e-04\n",
      "Epoch 200/200\n",
      "1257/1257 [==============================] - 0s 83us/step - loss: 2.5174e-04\n"
     ]
    },
    {
     "data": {
      "text/plain": [
       "<keras.callbacks.History at 0x1be40b9c400>"
      ]
     },
     "execution_count": 16,
     "metadata": {},
     "output_type": "execute_result"
    }
   ],
   "source": [
    "regressor.fit(x=X_train, y=y_train, batch_size=32, epochs=200)"
   ]
  },
  {
   "cell_type": "markdown",
   "metadata": {},
   "source": [
    "Getting real stock price"
   ]
  },
  {
   "cell_type": "code",
   "execution_count": 17,
   "metadata": {
    "collapsed": true
   },
   "outputs": [],
   "source": [
    "test_set = pd.read_csv('Google_Stock_Price_Test.csv')\n",
    "real_stock = test_set.iloc[:,1:2].values"
   ]
  },
  {
   "cell_type": "code",
   "execution_count": 18,
   "metadata": {},
   "outputs": [
    {
     "data": {
      "text/plain": [
       "array([[ 778.81],\n",
       "       [ 788.36],\n",
       "       [ 786.08],\n",
       "       [ 795.26],\n",
       "       [ 806.4 ],\n",
       "       [ 807.86],\n",
       "       [ 805.  ],\n",
       "       [ 807.14],\n",
       "       [ 807.48],\n",
       "       [ 807.08],\n",
       "       [ 805.81],\n",
       "       [ 805.12],\n",
       "       [ 806.91],\n",
       "       [ 807.25],\n",
       "       [ 822.3 ],\n",
       "       [ 829.62],\n",
       "       [ 837.81],\n",
       "       [ 834.71],\n",
       "       [ 814.66],\n",
       "       [ 796.86]])"
      ]
     },
     "execution_count": 18,
     "metadata": {},
     "output_type": "execute_result"
    }
   ],
   "source": [
    "real_stock"
   ]
  },
  {
   "cell_type": "markdown",
   "metadata": {},
   "source": [
    "Getting prediction"
   ]
  },
  {
   "cell_type": "code",
   "execution_count": 19,
   "metadata": {
    "collapsed": true
   },
   "outputs": [],
   "source": [
    "inputs = sc.transform(real_stock)\n",
    "inputs = np.reshape(inputs, (20, 1, 1))"
   ]
  },
  {
   "cell_type": "code",
   "execution_count": 20,
   "metadata": {
    "collapsed": true
   },
   "outputs": [],
   "source": [
    "predicted_stock_price = regressor.predict(inputs)\n",
    "predicted_stock_price = sc.inverse_transform(predicted_stock_price)"
   ]
  },
  {
   "cell_type": "code",
   "execution_count": 21,
   "metadata": {},
   "outputs": [
    {
     "data": {
      "text/plain": [
       "array([[ 773.29364014],\n",
       "       [ 782.67095947],\n",
       "       [ 780.4329834 ],\n",
       "       [ 789.44030762],\n",
       "       [ 800.35882568],\n",
       "       [ 801.78894043],\n",
       "       [ 798.98736572],\n",
       "       [ 801.0836792 ],\n",
       "       [ 801.41668701],\n",
       "       [ 801.02484131],\n",
       "       [ 799.78088379],\n",
       "       [ 799.1048584 ],\n",
       "       [ 800.8583374 ],\n",
       "       [ 801.19140625],\n",
       "       [ 815.92047119],\n",
       "       [ 823.07592773],\n",
       "       [ 831.07531738],\n",
       "       [ 828.04833984],\n",
       "       [ 808.44628906],\n",
       "       [ 791.00921631]], dtype=float32)"
      ]
     },
     "execution_count": 21,
     "metadata": {},
     "output_type": "execute_result"
    }
   ],
   "source": [
    "predicted_stock_price"
   ]
  },
  {
   "cell_type": "code",
   "execution_count": 38,
   "metadata": {},
   "outputs": [
    {
     "data": {
      "text/plain": [
       "<matplotlib.text.Text at 0x1be41e127f0>"
      ]
     },
     "execution_count": 38,
     "metadata": {},
     "output_type": "execute_result"
    },
    {
     "data": {
      "image/png": "[encoded data removed]",
      "text/plain": [
       "<matplotlib.figure.Figure at 0x1be41e0a908>"
      ]
     },
     "metadata": {},
     "output_type": "display_data"
    }
   ],
   "source": [
    "plt.figure(figsize=(12,8))\n",
    "plt.plot(real_stock, color = 'red', label = 'Real Stock Price')\n",
    "plt.plot(predicted_stock_price, color = 'blue', label = 'Predicted Stock Price')\n",
    "plt.title('Googel stock price Prediction')\n",
    "plt.xlabel('Time')\n",
    "plt.ylabel('Stock price')"
   ]
  },
  {
   "cell_type": "code",
   "execution_count": 31,
   "metadata": {},
   "outputs": [
    {
     "data": {
      "text/plain": [
       "(19, 1)"
      ]
     },
     "execution_count": 31,
     "metadata": {},
     "output_type": "execute_result"
    }
   ],
   "source": [
    "real_stock[1:].shape"
   ]
  }
 ],
 "metadata": {
  "kernelspec": {
   "display_name": "Python 3",
   "language": "python",
   "name": "python3"
  },
  "language_info": {
   "codemirror_mode": {
    "name": "ipython",
    "version": 3
   },
   "file_extension": ".py",
   "mimetype": "text/x-python",
   "name": "python",
   "nbconvert_exporter": "python",
   "pygments_lexer": "ipython3",
   "version": "3.6.3"
  }
 },
 "nbformat": 4,
 "nbformat_minor": 2
}
